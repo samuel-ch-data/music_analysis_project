{
 "cells": [
  {
   "cell_type": "markdown",
   "id": "83b98293",
   "metadata": {},
   "source": [
    "# 앱스토어 리뷰 분석 프로젝트\n",
    "### [1] iOS 리뷰 수집       ← App Store Scraper\n",
    "### [2] 구글플레이 리뷰 수집 ← Google Play Scraper\n",
    "### [3] 전처리 및 병합\n",
    "### [4] 감성 분석           ← Hugging Face / GPT\n",
    "### [5] 키워드 추출         ← TF-IDF / YAKE / GPT\n",
    "### [6] 요약                ← GPT or TextRank\n",
    "### [7] 시각화 및 종합 리포트"
   ]
  },
  {
   "cell_type": "code",
   "execution_count": 8,
   "id": "731cfb06",
   "metadata": {},
   "outputs": [],
   "source": [
    "## import library\n",
    "import trino\n",
    "import pandas as pd\n",
    "import numpy as np\n",
    "import matplotlib.ticker as ticker\n",
    "import matplotlib.font_manager as fm\n",
    "import matplotlib.pyplot as plt\n",
    "import matplotlib.dates as mdates\n",
    "import seaborn as sns\n",
    "from matplotlib.colors import Normalize\n",
    "from matplotlib.cm import ScalarMappable"
   ]
  },
  {
   "cell_type": "code",
   "execution_count": null,
   "id": "c2bd8ea6",
   "metadata": {},
   "outputs": [
    {
     "name": "stderr",
     "output_type": "stream",
     "text": [
      "/Library/Frameworks/Python.framework/Versions/3.13/lib/python3.13/site-packages/requests/__init__.py:89: RequestsDependencyWarning: urllib3 (2.4.0) or chardet (3.0.4) doesn't match a supported version!\n",
      "  warnings.warn(\"urllib3 ({}) or chardet ({}) doesn't match a supported \"\n",
      "2025-05-08 17:33:04,145 [INFO] Base - Initialised: AppStore('kr', '-eb-a9-9c-eb-a1-a0-melon', 415597317)\n",
      "2025-05-08 17:33:04,146 [INFO] Base - Ready to fetch reviews from: https://apps.apple.com/kr/app/-eb-a9-9c-eb-a1-a0-melon/id415597317\n",
      "2025-05-08 17:33:04,473 [ERROR] Base - Something went wrong: Expecting value: line 1 column 1 (char 0)\n",
      "2025-05-08 17:33:04,474 [INFO] Base - [id:415597317] Fetched 0 reviews (0 fetched in total)\n"
     ]
    }
   ],
   "source": [
    "## iOS 리뷰 수집 - 실제 피씨에서 보여지는 앱스토어에는 리뷰가 없어서 사용 불가능\n",
    "from urllib.parse import quote\n",
    "from app_store_scraper import AppStore\n",
    "\n",
    "app_name_encoded = quote('멜론-melon')  # URL-safe 인코딩\n",
    "app = AppStore(country='kr', app_name=app_name_encoded, app_id=415597317)\n",
    "app.review(how_many=200)\n",
    "\n",
    "ios_reviews = pd.DataFrame(app.reviews)\n",
    "ios_reviews['platform'] = 'iOS'"
   ]
  },
  {
   "cell_type": "code",
   "execution_count": null,
   "id": "02e5ed2a",
   "metadata": {},
   "outputs": [
    {
     "name": "stdout",
     "output_type": "stream",
     "text": [
      "더보기 버튼을 찾을 수 없거나 더 이상 로드할 리뷰가 없습니다.\n",
      "                         title  \\\n",
      "0        개인적으로 생각하는 멜론의 불편했던 점   \n",
      "1                   노래 처음 들은 날   \n",
      "2                    뮤직 dna...   \n",
      "3  상대방 곡 볼 수 있는 기능을 다시 추가해주세용!   \n",
      "4                    댓글 통합 ㄹㅈㄷ   \n",
      "5                            렉   \n",
      "6                         재생목록   \n",
      "7                         업데이트   \n",
      "8       아니 근데 진짜 왜 그러세요 …. ㅜ??   \n",
      "9          플레이리스트 한계치 늘려주세요 ㅠㅠ   \n",
      "\n",
      "                                                body rating  \n",
      "0  10개월 정도 쓰고 못써먹겠어서 스포티로 갈아탐 1. 해외 음악 라이센스 제일 불편...    2/5  \n",
      "1  멜론 5년 넘게 꾸준히 잘 이용하고 있는데요\\n지금껏 업데이트로 인해 크게 불편했던...    5/5  \n",
      "2  뮤직 DNA 진짜 맘에 안 드네요. 정말 불편하고 쓸데 없습니다. 몇 년간 사용해오...    5/5  \n",
      "3  예전에 여자친구와 서로 실시간으로 듣는 노래와 상대방이 많이 들은 노래를 볼 수 있...    5/5  \n",
      "4  음악어플의 본질이 뭐임? 음악을 듣고 보는데 이어, 사람들과 소통할 수 있는 곳이라...    5/5  \n",
      "5  10월 1일 음소거스밍 금지 되자마자 렉이 조오오온나게 걸려요 자꾸 노래 끊기고 멜...    5/5  \n",
      "6  재생목록이 사라졌습니다. 1000개 가까이 있던 곡들이 오늘 오후에 앱 실행하자마자...    3/5  \n",
      "7  제발 업데이트 전으로 가게 해주시면 안될까요?\\n멜론을 사용하는 이유가 이쁘고 편해...    4/5  \n",
      "8  저 멜론 7년째 쓰다가 처음 리뷰 다는데요 ㅜㅜ 업데이트 하고 나서 자꾸 노래 멈췄...    2/5  \n",
      "9  1000개 너무 적어요…. 그렇다고 재생목록에서 듣기엔 새로 듣는노래가 있고 그래서...    4/5  \n"
     ]
    }
   ],
   "source": [
    "## 실제 홈페이지에서 크롤링해오기 - 전체리뷰는 확인 불가능하고 주요 리뷰 미리보기만 가능(9개정도)\n",
    "from selenium import webdriver\n",
    "from selenium.webdriver.common.by import By\n",
    "from selenium.webdriver.common.action_chains import ActionChains\n",
    "from selenium.webdriver.chrome.service import Service\n",
    "from selenium.webdriver.common.keys import Keys\n",
    "import time\n",
    "import pandas as pd\n",
    "\n",
    "# ChromeDriver 경로 설정\n",
    "chrome_driver_path = \"/Users/samuel.ch/Desktop/Work/chromedriver-mac-arm64/chromedriver\"\n",
    "service = Service(chrome_driver_path)\n",
    "driver = webdriver.Chrome(service=service)\n",
    "\n",
    "# 앱스토어 URL\n",
    "url = \"https://apps.apple.com/kr/app/%EB%A9%9C%EB%A1%A0-melon/id415597317?see-all=reviews\"\n",
    "driver.get(url)\n",
    "\n",
    "# 페이지 로드 대기\n",
    "time.sleep(5)\n",
    "\n",
    "# \"더보기\" 버튼 클릭 및 스크롤\n",
    "actions = ActionChains(driver)\n",
    "reviews = []\n",
    "\n",
    "try:\n",
    "    while True:\n",
    "        # 리뷰 데이터 수집\n",
    "        review_elements = driver.find_elements(By.CLASS_NAME, \"we-customer-review\")\n",
    "        for review in review_elements:\n",
    "            try:\n",
    "                title = review.find_element(By.CLASS_NAME, \"we-customer-review__title\").text\n",
    "                body = review.find_element(By.CLASS_NAME, \"we-customer-review__body\").text\n",
    "                rating = review.find_element(By.CLASS_NAME, \"we-star-rating\").get_attribute(\"aria-label\")\n",
    "                reviews.append({\"title\": title, \"body\": body, \"rating\": rating})\n",
    "            except Exception as e:\n",
    "                print(\"Error while parsing review:\", e)\n",
    "\n",
    "        # \"더보기\" 버튼 클릭\n",
    "        try:\n",
    "            load_more_button = driver.find_element(By.XPATH, \"//button[contains(text(), '더보기')]\")\n",
    "            load_more_button.click()\n",
    "            time.sleep(3)  # 버튼 클릭 후 대기\n",
    "        except Exception:\n",
    "            print(\"더보기 버튼을 찾을 수 없거나 더 이상 로드할 리뷰가 없습니다.\")\n",
    "            break\n",
    "\n",
    "except Exception as e:\n",
    "    print(\"Error during scraping:\", e)\n",
    "\n",
    "# DataFrame으로 변환\n",
    "reviews_df = pd.DataFrame(reviews)\n",
    "print(reviews_df)\n",
    "\n",
    "# 브라우저 닫기\n",
    "driver.quit()"
   ]
  },
  {
   "cell_type": "code",
   "execution_count": 16,
   "id": "7ded33e7",
   "metadata": {},
   "outputs": [
    {
     "data": {
      "text/plain": [
       "'뮤직 DNA 진짜 맘에 안 드네요. 정말 불편하고 쓸데 없습니다. 몇 년간 사용해오면서 타 음악사이트로 갈아타지 않은 이유는 오직 뮤직 DNA 때문이었고 멜론 사이트를 고집하며 누군가의 학생때 추억이 모두 담겨있는데 한순간에 바뀌니 참 허망하네요. 이 리뷰를 보고 다시 원래의 뮤직 dna 로 바꿔주시리라 굳게 믿는 마음으로 별점 5개 드립니다. 제발 바꿔주세요. 개발자 님 하나도 안 예쁩니다. 불편합니다 전 버전으로 돌려주세요. 간곡히 부탁드립니다.\\n더 보기'"
      ]
     },
     "execution_count": 16,
     "metadata": {},
     "output_type": "execute_result"
    }
   ],
   "source": [
    "reviews_df['body'][2]"
   ]
  },
  {
   "cell_type": "code",
   "execution_count": 17,
   "id": "1d6b0db4",
   "metadata": {},
   "outputs": [
    {
     "name": "stdout",
     "output_type": "stream",
     "text": [
      "Collecting google-play-scraper\n",
      "  Downloading google_play_scraper-1.2.7-py3-none-any.whl.metadata (50 kB)\n",
      "Downloading google_play_scraper-1.2.7-py3-none-any.whl (28 kB)\n",
      "Installing collected packages: google-play-scraper\n",
      "Successfully installed google-play-scraper-1.2.7\n",
      "Note: you may need to restart the kernel to use updated packages.\n"
     ]
    }
   ],
   "source": [
    "pip install google-play-scraper"
   ]
  },
  {
   "cell_type": "code",
   "execution_count": 26,
   "id": "4ff60308",
   "metadata": {},
   "outputs": [
    {
     "name": "stdout",
     "output_type": "stream",
     "text": [
      "Empty DataFrame\n",
      "Columns: []\n",
      "Index: []\n"
     ]
    }
   ],
   "source": [
    "from selenium import webdriver\n",
    "from selenium.webdriver.common.by import By\n",
    "from selenium.webdriver.chrome.service import Service\n",
    "import time\n",
    "import pandas as pd\n",
    "\n",
    "# ChromeDriver 경로 설정\n",
    "chrome_driver_path = \"/Users/samuel.ch/Desktop/Work/chromedriver-mac-arm64/chromedriver\"\n",
    "service = Service(chrome_driver_path)\n",
    "driver = webdriver.Chrome(service=service)\n",
    "\n",
    "# 구글 플레이스토어 URL\n",
    "url = \"https://play.google.com/store/apps/details?id=com.iloen.melon&hl=ko\"\n",
    "driver.get(url)\n",
    "\n",
    "# 페이지 로드 대기\n",
    "time.sleep(5)\n",
    "\n",
    "# 스크롤을 내려 리뷰를 로드\n",
    "for _ in range(10):  # 스크롤을 10번 내림 (필요에 따라 조정)\n",
    "    driver.execute_script(\"window.scrollBy(0, 1000);\")\n",
    "    time.sleep(2)\n",
    "\n",
    "# 리뷰 데이터 수집\n",
    "reviews = []\n",
    "review_elements = driver.find_elements(By.XPATH, \"//div[@jscontroller='soHxf']\")  # 리뷰 컨테이너\n",
    "for review in review_elements:\n",
    "    try:\n",
    "        # 화살표 버튼 클릭 (전체 리뷰 표시)\n",
    "        try:\n",
    "            more_button = review.find_element(By.XPATH,\"//button[@aria-label='평점 및 리뷰 자세히 알아보기']\")  # 화살표 버튼\n",
    "            more_button.click()\n",
    "            time.sleep(1)  # 클릭 후 대기\n",
    "        except Exception:\n",
    "            pass  # 화살표 버튼이 없는 경우 무시\n",
    "\n",
    "        # 리뷰 내용과 평점 가져오기\n",
    "        content = review.find_element(By.XPATH, \".//span[@jsname='bN97Pc']\").text  # 리뷰 내용\n",
    "        rating = review.find_element(By.XPATH, \".//div[@role='img']\").get_attribute(\"aria-label\")  # 평점\n",
    "        reviews.append({\"content\": content, \"rating\": rating})\n",
    "    except Exception as e:\n",
    "        print(\"Error while parsing review:\", e)\n",
    "\n",
    "# DataFrame으로 변환\n",
    "reviews_df = pd.DataFrame(reviews)\n",
    "print(reviews_df)\n",
    "\n",
    "# 브라우저 닫기\n",
    "driver.quit()"
   ]
  },
  {
   "cell_type": "code",
   "execution_count": 28,
   "id": "89df7ffb",
   "metadata": {},
   "outputs": [
    {
     "name": "stdout",
     "output_type": "stream",
     "text": [
      "Empty DataFrame\n",
      "Columns: []\n",
      "Index: []\n"
     ]
    }
   ],
   "source": [
    "from selenium import webdriver\n",
    "from selenium.webdriver.common.by import By\n",
    "from selenium.webdriver.chrome.service import Service\n",
    "from selenium.webdriver.chrome.options import Options\n",
    "import time\n",
    "import pandas as pd\n",
    "\n",
    "# 크롬 드라이버 설정\n",
    "chrome_driver_path = \"/Users/samuel.ch/Desktop/Work/chromedriver-mac-arm64/chromedriver\"\n",
    "service = Service(chrome_driver_path)\n",
    "options = Options()\n",
    "options.add_argument(\"--lang=ko\")\n",
    "driver = webdriver.Chrome(service=service, options=options)\n",
    "\n",
    "# 전체 리뷰 페이지 URL\n",
    "url = \"https://play.google.com/store/apps/details?id=com.iloen.melon&showAllReviews=true\"\n",
    "driver.get(url)\n",
    "time.sleep(5)\n",
    "\n",
    "# 스크롤 반복 (리뷰 로딩)\n",
    "for _ in range(20):\n",
    "    driver.execute_script(\"window.scrollBy(0, 1000);\")\n",
    "    time.sleep(1.5)\n",
    "\n",
    "# 리뷰 요소 수집\n",
    "review_elements = driver.find_elements(By.XPATH, \"//div[@jscontroller='soHxf']\")\n",
    "\n",
    "reviews = []\n",
    "for elem in review_elements:\n",
    "    try:\n",
    "        content = elem.find_element(By.XPATH, \".//span[@jsname='V67aGc']\").text or \\\n",
    "                  elem.find_element(By.XPATH, \".//span[@jsname='V67aGc']\").text\n",
    "        rating_element = elem.find_element(By.XPATH, \".//div[@role='img']\")\n",
    "        rating_text = rating_element.get_attribute(\"aria-label\")  # 예: \"5점 중 4점\"\n",
    "        rating = int(rating_text.split(\" \")[-1].replace(\"점\", \"\"))\n",
    "        reviews.append({\n",
    "            \"content\": content,\n",
    "            \"rating\": rating\n",
    "        })\n",
    "    except Exception as e:\n",
    "        print(\"❌ 리뷰 파싱 오류:\", e)\n",
    "\n",
    "# 결과 확인\n",
    "df = pd.DataFrame(reviews)\n",
    "print(df.head())\n",
    "\n",
    "# 브라우저 종료\n",
    "driver.quit()"
   ]
  },
  {
   "cell_type": "code",
   "execution_count": 42,
   "id": "3345e2c1",
   "metadata": {},
   "outputs": [
    {
     "name": "stdout",
     "output_type": "stream",
     "text": [
      "❌ 리뷰 파싱 오류: invalid literal for int() with base 10: '받았습니다.'\n",
      "Empty DataFrame\n",
      "Columns: []\n",
      "Index: []\n"
     ]
    }
   ],
   "source": [
    "from selenium import webdriver\n",
    "from selenium.webdriver.common.by import By\n",
    "from selenium.webdriver.chrome.service import Service\n",
    "from selenium.webdriver.chrome.options import Options\n",
    "from selenium.webdriver.support.ui import WebDriverWait\n",
    "from selenium.webdriver.support import expected_conditions as EC\n",
    "import time\n",
    "import pandas as pd\n",
    "\n",
    "# 크롬 드라이버 설정\n",
    "chrome_driver_path = \"/Users/samuel.ch/Desktop/Work/chromedriver-mac-arm64/chromedriver\"\n",
    "service = Service(chrome_driver_path)\n",
    "options = Options()\n",
    "options.add_argument(\"--lang=ko\")\n",
    "driver = webdriver.Chrome(service=service, options=options)\n",
    "\n",
    "# 전체 리뷰 페이지 열기\n",
    "url = \"https://play.google.com/store/apps/details?id=com.iloen.melon&hl=ko&showAllReviews=true\"\n",
    "driver.get(url)\n",
    "time.sleep(5)\n",
    "\n",
    "# 스크롤 다운 (리뷰 로드 유도)\n",
    "for _ in range(20):\n",
    "    driver.execute_script(\"window.scrollBy(0, 1000);\")\n",
    "    time.sleep(1.5)\n",
    "\n",
    "# '리뷰 모두 보기' 버튼 대기 후 클릭\n",
    "try:\n",
    "    show_all_button = WebDriverWait(driver, 10).until(\n",
    "        EC.element_to_be_clickable((By.XPATH, \"//span[text()='리뷰 모두 보기']/ancestor::button\"))\n",
    "    )\n",
    "    show_all_button.click()\n",
    "    time.sleep(3)\n",
    "except Exception as e:\n",
    "    print(\"❌ 리뷰 모두 보기 버튼 클릭 실패:\", e)\n",
    "\n",
    "# 리뷰 컨테이너 선택\n",
    "review_elements = driver.find_elements(By.XPATH, \"//div[@jscontroller='X6C1Be']\")\n",
    "\n",
    "reviews = []\n",
    "for elem in review_elements:\n",
    "    try:\n",
    "        # 리뷰 내용\n",
    "        content = elem.find_element(By.XPATH, \".//div[@class='RHo1pe']\").text\n",
    "        # 리뷰 평점\n",
    "        rating_element = elem.find_element(By.XPATH, \".//div[@role='img']\")\n",
    "        rating_text = rating_element.get_attribute(\"aria-label\")  # 예: \"5점 중 4점\"\n",
    "        rating = int(rating_text.split(\" \")[-1].replace(\"점\", \"\"))\n",
    "        reviews.append({\n",
    "            \"content\": content,\n",
    "            \"rating\": rating\n",
    "        })\n",
    "    except Exception as e:\n",
    "        print(\"❌ 리뷰 파싱 오류:\", e)\n",
    "\n",
    "# 결과 저장 및 출력\n",
    "df = pd.DataFrame(reviews)\n",
    "print(df.head())\n",
    "\n",
    "# 브라우저 종료\n",
    "driver.quit()"
   ]
  },
  {
   "cell_type": "code",
   "execution_count": 50,
   "id": "5c285530",
   "metadata": {},
   "outputs": [
    {
     "name": "stdout",
     "output_type": "stream",
     "text": [
      "Empty DataFrame\n",
      "Columns: []\n",
      "Index: []\n"
     ]
    }
   ],
   "source": [
    "from selenium import webdriver\n",
    "from selenium.webdriver.common.by import By\n",
    "from selenium.webdriver.chrome.service import Service\n",
    "import time\n",
    "import pandas as pd\n",
    "\n",
    "# ChromeDriver 경로 설정\n",
    "chrome_driver_path = \"/Users/samuel.ch/Desktop/Work/chromedriver-mac-arm64/chromedriver\"\n",
    "service = Service(chrome_driver_path)\n",
    "driver = webdriver.Chrome(service=service)\n",
    "\n",
    "# 구글 플레이스토어 URL\n",
    "url = \"https://play.google.com/store/apps/details?id=com.iloen.melon&hl=ko\"\n",
    "driver.get(url)\n",
    "\n",
    "# 페이지 로드 대기\n",
    "time.sleep(5)\n",
    "\n",
    "# 스크롤을 내려 리뷰를 로드\n",
    "for _ in range(10):  # 스크롤을 10번 내림 (필요에 따라 조정)\n",
    "    driver.execute_script(\"window.scrollBy(0, 1000);\")\n",
    "    time.sleep(2)\n",
    "\n",
    "# '리뷰 모두 보기' 버튼 대기 후 클릭\n",
    "try:\n",
    "    show_all_button = WebDriverWait(driver, 10).until(\n",
    "        EC.element_to_be_clickable((By.XPATH, \"//span[text()='리뷰 모두 보기']/ancestor::button\"))\n",
    "    )\n",
    "    show_all_button.click()\n",
    "    time.sleep(3)\n",
    "except Exception as e:\n",
    "    print(\"❌ 리뷰 모두 보기 버튼 클릭 실패:\", e)\n",
    "\n",
    "# 리뷰 데이터 수집\n",
    "reviews = []\n",
    "review_elements = driver.find_elements(By.XPATH, \"//div[@jscontroller='RHo1pe']\")  # 리뷰 컨테이너\n",
    "for review in review_elements:\n",
    "    try:        \n",
    "        # 리뷰 내용과 평점 가져오기\n",
    "        content = review.find_element(By.XPATH, \".//div[@class=h3YV2d]\").text  # 리뷰 내용        \n",
    "        rating_text = review.find_element(By.XPATH, \".//div[@role='img']\").get_attribute(\"aria-label\")  # 평점\n",
    "\n",
    "        # 평점에서 숫자 추출 (예: \"별표 5개 만점에 3개를 받았습니다.\")\n",
    "        try:\n",
    "            rating = int(rating_text.split(\" \")[3].replace(\"개\", \"\"))  # \"3개\"에서 숫자만 추출\n",
    "        except (IndexError, ValueError):\n",
    "            rating = None  # 평점이 없거나 숫자가 아닌 경우 None 처리\n",
    "\n",
    "        reviews.append({\"content\": content, \"rating\": rating})\n",
    "    except Exception as e:\n",
    "        print(\"❌ 리뷰 파싱 오류:\", e)\n",
    "\n",
    "# DataFrame으로 변환\n",
    "reviews_df = pd.DataFrame(reviews)\n",
    "print(reviews_df)\n",
    "\n",
    "# 브라우저 닫기\n",
    "driver.quit()"
   ]
  },
  {
   "cell_type": "code",
   "execution_count": 51,
   "id": "9fbe0d4d",
   "metadata": {},
   "outputs": [
    {
     "data": {
      "text/plain": [
       "[]"
      ]
     },
     "execution_count": 51,
     "metadata": {},
     "output_type": "execute_result"
    }
   ],
   "source": [
    "review_elements"
   ]
  },
  {
   "cell_type": "code",
   "execution_count": null,
   "id": "9fce76b5",
   "metadata": {},
   "outputs": [
    {
     "data": {
      "text/plain": [
       "[]"
      ]
     },
     "execution_count": 38,
     "metadata": {},
     "output_type": "execute_result"
    }
   ],
   "source": []
  }
 ],
 "metadata": {
  "kernelspec": {
   "display_name": "Python 3",
   "language": "python",
   "name": "python3"
  },
  "language_info": {
   "codemirror_mode": {
    "name": "ipython",
    "version": 3
   },
   "file_extension": ".py",
   "mimetype": "text/x-python",
   "name": "python",
   "nbconvert_exporter": "python",
   "pygments_lexer": "ipython3",
   "version": "3.13.2"
  }
 },
 "nbformat": 4,
 "nbformat_minor": 5
}
